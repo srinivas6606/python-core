{
 "cells": [
  {
   "cell_type": "code",
   "execution_count": 1,
   "id": "9f16cc9e",
   "metadata": {
    "ExecuteTime": {
     "end_time": "2023-02-21T10:39:25.956210Z",
     "start_time": "2023-02-21T10:39:25.940225Z"
    }
   },
   "outputs": [
    {
     "name": "stdout",
     "output_type": "stream",
     "text": [
      "elements in the tuple : (1, 2, 3, 4, 5, 6)\n",
      "sum of the elements in tuple is : 21\n"
     ]
    }
   ],
   "source": [
    "# a program to create a tuple of num and print the sum of all the elements :\n",
    "\n",
    "sum_tuples = (1,2,3,4,5,6)\n",
    "\n",
    "print(f'elements in the tuple : {sum_tuples}')\n",
    "\n",
    "print(f'sum of the elements in tuple is : {sum(sum_tuples)}')"
   ]
  },
  {
   "cell_type": "code",
   "execution_count": 2,
   "id": "2bac2131",
   "metadata": {
    "ExecuteTime": {
     "end_time": "2023-02-21T10:39:25.968313Z",
     "start_time": "2023-02-21T10:39:25.958176Z"
    }
   },
   "outputs": [
    {
     "name": "stdout",
     "output_type": "stream",
     "text": [
      "elements in the list_of_str : ['a', 'b', 'abc']\n",
      "sorting in alphabetic order  : ['a', 'abc', 'b']\n",
      "sorting in decending order of alphabatics : ['b', 'abc', 'a']\n"
     ]
    }
   ],
   "source": [
    "# a program to create list of strings and sort them in alphabetical order :\n",
    "\n",
    "list_of_str = [\"a\",'b',\"abc\"]\n",
    "\n",
    "print(f'elements in the list_of_str : {list_of_str}')\n",
    "\n",
    "list_of_str.sort()\n",
    "\n",
    "print(f'sorting in alphabetic order  : {(list_of_str)}')\n",
    "\n",
    "print (f'sorting in decending order of alphabatics : {sorted(list_of_str,reverse = True)}')"
   ]
  },
  {
   "cell_type": "code",
   "execution_count": 3,
   "id": "19d35dc6",
   "metadata": {
    "ExecuteTime": {
     "end_time": "2023-02-21T10:39:25.982808Z",
     "start_time": "2023-02-21T10:39:25.968313Z"
    }
   },
   "outputs": [
    {
     "name": "stdout",
     "output_type": "stream",
     "text": [
      "elements in the tuple : (1, 2, 3, 4, 5)\n",
      "max value in the tuple : 5\n",
      "min value in the tuple : 1\n"
     ]
    }
   ],
   "source": [
    "# creating a tuple and finding the min and  max in the tuple :\n",
    "\n",
    "tuple_2 = 1,2,3,4,5\n",
    "\n",
    "print(f'elements in the tuple : {tuple_2}')\n",
    "\n",
    "print(f'max value in the tuple : {max(tuple_2)}\\n\\\n",
    "min value in the tuple : {min(tuple_2)}')"
   ]
  },
  {
   "cell_type": "code",
   "execution_count": 4,
   "id": "b3feb049",
   "metadata": {
    "ExecuteTime": {
     "end_time": "2023-02-21T10:39:25.998466Z",
     "start_time": "2023-02-21T10:39:25.982808Z"
    }
   },
   "outputs": [
    {
     "name": "stdout",
     "output_type": "stream",
     "text": [
      "elements in the tuple : (1, 'str1', 2.5, True)\n",
      "type of first element : <class 'int'>\n",
      "type of second element : <class 'str'>\n",
      "type of third element : <class 'float'>\n",
      "type of fourth element : <class 'bool'>\n"
     ]
    }
   ],
   "source": [
    "# a program to create a tuple of mixed data type and print the data type of each element :\n",
    "\n",
    "tuple_3 = (1,\"str1\",2.5,True)\n",
    "\n",
    "print(f'elements in the tuple : {tuple_3}')\n",
    "\n",
    "print(f'type of first element : {type(tuple_3[0])}')\n",
    "print(f'type of second element : {type(tuple_3[1])}')\n",
    "print(f'type of third element : {type(tuple_3[2])}')\n",
    "print(f'type of fourth element : {type(tuple_3[3])}')"
   ]
  },
  {
   "cell_type": "code",
   "execution_count": 5,
   "id": "333bc92a",
   "metadata": {
    "ExecuteTime": {
     "end_time": "2023-02-21T10:39:26.014996Z",
     "start_time": "2023-02-21T10:39:25.999339Z"
    }
   },
   "outputs": [
    {
     "name": "stdout",
     "output_type": "stream",
     "text": [
      "tuple is : (1, 2, 3, 4, 5)\n",
      "sum of all the elements in the tuple : 15\n"
     ]
    }
   ],
   "source": [
    "# a program to create a tuple of num and print the sum of all the elements :\n",
    "\n",
    "tuple_4 = (1,2,3,4,5)\n",
    "\n",
    "print(f'tuple is : {tuple_4}')\n",
    "\n",
    "print(f'sum of all the elements in the tuple : {sum(tuple_4)}')\n"
   ]
  },
  {
   "cell_type": "code",
   "execution_count": 6,
   "id": "717b442f",
   "metadata": {
    "ExecuteTime": {
     "end_time": "2023-02-21T10:39:26.031827Z",
     "start_time": "2023-02-21T10:39:26.016178Z"
    }
   },
   "outputs": [
    {
     "name": "stdout",
     "output_type": "stream",
     "text": [
      "list is : [1, 2, 1, 'abc', 2, 1, 3, 'str']\n",
      "list after removing all the duplicate elements : [1, 2, 3, 'str', 'abc']\n"
     ]
    }
   ],
   "source": [
    "# program to remove dublicates in a list :\n",
    "\n",
    "list_1 = [ 1,2,1,\"abc\",2,1,3,\"str\"]\n",
    "\n",
    "print(f'list is : {list_1}')\n",
    "\n",
    "my_final_list = set(list_1)\n",
    "\n",
    "\n",
    "print(f'list after removing all the duplicate elements : {list(my_final_list)}')"
   ]
  },
  {
   "cell_type": "code",
   "execution_count": 7,
   "id": "96adb681",
   "metadata": {
    "ExecuteTime": {
     "end_time": "2023-02-21T10:39:26.048492Z",
     "start_time": "2023-02-21T10:39:26.032835Z"
    }
   },
   "outputs": [
    {
     "name": "stdout",
     "output_type": "stream",
     "text": [
      "tuple is : (1, 2, 'str', 7, '8', 2.5, 'abc')\n",
      "reverse of the tuple : ('abc', 2.5, '8', 7, 'str', 2, 1)\n"
     ]
    }
   ],
   "source": [
    "# program to reverse a tuple :\n",
    "\n",
    "tuple_5 = (1,2,\"str\",7,'8',2.5,'abc')\n",
    "\n",
    "print(f'tuple is : {tuple_5}')\n",
    "\n",
    "print(f'reverse of the tuple : {tuple_5[::-1]}')"
   ]
  },
  {
   "cell_type": "code",
   "execution_count": 8,
   "id": "4ca88c19",
   "metadata": {
    "ExecuteTime": {
     "end_time": "2023-02-21T10:39:26.065134Z",
     "start_time": "2023-02-21T10:39:26.049478Z"
    }
   },
   "outputs": [
    {
     "name": "stdout",
     "output_type": "stream",
     "text": [
      "list is : [1, 2, 5, 7, 9, 8]\n",
      "second largest element in the list : 8\n"
     ]
    }
   ],
   "source": [
    "# Program to find the second largest num in the list :\n",
    "\n",
    "list_2 = [1,2,5,7,9,8]\n",
    "\n",
    "print(f'list is : {list_2}')\n",
    "\n",
    "list_2.sort() # sorting the list from ascending to descending and then print second last element \n",
    "\n",
    "print(f'second largest element in the list : {list_2[-2]}')\n",
    "\n"
   ]
  },
  {
   "cell_type": "code",
   "execution_count": 9,
   "id": "a1925534",
   "metadata": {
    "ExecuteTime": {
     "end_time": "2023-02-21T10:39:26.081731Z",
     "start_time": "2023-02-21T10:39:26.066110Z"
    }
   },
   "outputs": [
    {
     "name": "stdout",
     "output_type": "stream",
     "text": [
      "list of tuples is : [(1, 'a'), (2, 'b'), (3, 'c'), (5, 'd'), (4, 'f'), (5, 'e')]\n",
      "sorting using second element in a tuple of list : [(1, 'a'), (2, 'b'), (3, 'c'), (5, 'd'), (5, 'e'), (4, 'f')]\n"
     ]
    }
   ],
   "source": [
    "# a program to create a list of tuples and sorting them based on the second element of the list :\n",
    "\n",
    "\n",
    "list_of_tuples = [(1,'a'),(2,'b'),(3,'c'),(5,'d'),(4,'f'),(5,'e')]\n",
    "\n",
    "print(f'list of tuples is : {list_of_tuples}')\n",
    "\n",
    "\n",
    "print(f'sorting using second element in a tuple of list : {(sorted(list_of_tuples,key=lambda x:x[1]))}')"
   ]
  },
  {
   "cell_type": "code",
   "execution_count": 10,
   "id": "9b243971",
   "metadata": {
    "ExecuteTime": {
     "end_time": "2023-02-21T10:39:26.098493Z",
     "start_time": "2023-02-21T10:39:26.082837Z"
    }
   },
   "outputs": [
    {
     "name": "stdout",
     "output_type": "stream",
     "text": [
      "tuple is (1, 2, 3, 4, 6)\n",
      "converting the tuple to list : [1, 2, 3, 4, 6]\n",
      "list is [6, 7, 8, 9, 1]\n",
      "converting the list to tuple : (6, 7, 8, 9, 1)\n"
     ]
    }
   ],
   "source": [
    "# a program to convert tuple into a list and viceversa :\n",
    "\n",
    "tuple_1 = (1,2,3,4,6) # creating a tuple \n",
    "\n",
    "print(f'tuple is {tuple_1}')\n",
    "\n",
    "print(f'converting the tuple to list : {(list(tuple_1))}')\n",
    "\n",
    "\n",
    "list2 = [6,7,8,9,1] # creating a list \n",
    "\n",
    "print(f'list is {list2}')\n",
    "\n",
    "print(f'converting the list to tuple : {(tuple(list2))}')"
   ]
  },
  {
   "cell_type": "code",
   "execution_count": 1,
   "id": "94941ab2",
   "metadata": {},
   "outputs": [
    {
     "data": {
      "text/plain": [
       "[0, 1, 2, 3, 4, 5, 6, 7, 8, 9]"
      ]
     },
     "execution_count": 1,
     "metadata": {},
     "output_type": "execute_result"
    }
   ],
   "source": [
    "a=[]\n",
    "for i in range(10):\n",
    "    a.append(i)\n",
    "a    "
   ]
  },
  {
   "cell_type": "code",
   "execution_count": null,
   "id": "eae73e5f",
   "metadata": {},
   "outputs": [],
   "source": []
  }
 ],
 "metadata": {
  "kernelspec": {
   "display_name": "Python 3 (ipykernel)",
   "language": "python",
   "name": "python3"
  },
  "language_info": {
   "codemirror_mode": {
    "name": "ipython",
    "version": 3
   },
   "file_extension": ".py",
   "mimetype": "text/x-python",
   "name": "python",
   "nbconvert_exporter": "python",
   "pygments_lexer": "ipython3",
   "version": "3.9.13"
  }
 },
 "nbformat": 4,
 "nbformat_minor": 5
}
